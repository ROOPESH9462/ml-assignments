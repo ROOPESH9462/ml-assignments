{
  "nbformat": 4,
  "nbformat_minor": 0,
  "metadata": {
    "colab": {
      "provenance": [],
      "authorship_tag": "ABX9TyNyvDNWFvckgiuAyzFjedrE",
      "include_colab_link": true
    },
    "kernelspec": {
      "name": "python3",
      "display_name": "Python 3"
    },
    "language_info": {
      "name": "python"
    }
  },
  "cells": [
    {
      "cell_type": "markdown",
      "metadata": {
        "id": "view-in-github",
        "colab_type": "text"
      },
      "source": [
        "<a href=\"https://colab.research.google.com/github/ROOPESH9462/ml-assignments/blob/main/assignment%205.ipynb\" target=\"_parent\"><img src=\"https://colab.research.google.com/assets/colab-badge.svg\" alt=\"Open In Colab\"/></a>"
      ]
    },
    {
      "cell_type": "markdown",
      "source": [
        "Import Libraries"
      ],
      "metadata": {
        "id": "fdSbNPz8CGpN"
      }
    },
    {
      "cell_type": "markdown",
      "source": [
        "These libraries are used for data handling, preprocessing, modeling, and evaluation."
      ],
      "metadata": {
        "id": "WQCmTpo4CAuW"
      }
    },
    {
      "cell_type": "code",
      "execution_count": 1,
      "metadata": {
        "id": "9FSA-pjM_RUI"
      },
      "outputs": [],
      "source": [
        "import pandas as pd\n",
        "import numpy as np\n",
        "from sklearn.model_selection import train_test_split\n",
        "from sklearn.preprocessing import StandardScaler, LabelEncoder\n",
        "from sklearn.metrics import accuracy_score, precision_score, recall_score, f1_score, classification_report\n",
        "from sklearn.linear_model import LogisticRegression\n",
        "from sklearn.naive_bayes import GaussianNB\n",
        "from sklearn.neighbors import KNeighborsClassifier\n",
        "from sklearn.tree import DecisionTreeClassifier\n",
        "from sklearn.svm import SVC"
      ]
    },
    {
      "cell_type": "markdown",
      "source": [
        "Load and Analyze the Dataset\n",
        "\n",
        "This part loads the dataset and provides an overview of its structure and contents"
      ],
      "metadata": {
        "id": "EcrcNhvSEQiq"
      }
    },
    {
      "cell_type": "code",
      "source": [
        "data_path = '/content/sleep_health_lifestyle_dataset.csv'\n",
        "df = pd.read_csv(data_path)\n",
        "\n",
        "print(\"Dataset Head:\\n\", df.head())\n",
        "print(\"\\nDataset Info:\\n\")\n",
        "df.info()\n",
        "print(\"\\nMissing Values:\\n\", df.isnull().sum())\n",
        "print(\"\\nClass Distribution:\\n\", df.iloc[:, -1].value_counts())"
      ],
      "metadata": {
        "colab": {
          "base_uri": "https://localhost:8080/"
        },
        "id": "7KNKt4oI_s-i",
        "outputId": "61655675-f1dc-4640-8fca-92f7a1c3553a"
      },
      "execution_count": 8,
      "outputs": [
        {
          "output_type": "stream",
          "name": "stdout",
          "text": [
            "Dataset Head:\n",
            "    Person ID  Gender  Age     Occupation  Sleep Duration (hours)  \\\n",
            "0          1    Male   29   Manual Labor                     7.4   \n",
            "1          2  Female   43        Retired                     4.2   \n",
            "2          3    Male   44        Retired                     6.1   \n",
            "3          4    Male   29  Office Worker                     8.3   \n",
            "4          5    Male   67        Retired                     9.1   \n",
            "\n",
            "   Quality of Sleep (scale: 1-10)  Physical Activity Level (minutes/day)  \\\n",
            "0                             7.0                                     41   \n",
            "1                             4.9                                     41   \n",
            "2                             6.0                                    107   \n",
            "3                            10.0                                     20   \n",
            "4                             9.5                                     19   \n",
            "\n",
            "   Stress Level (scale: 1-10) BMI Category  \\\n",
            "0                           7        Obese   \n",
            "1                           5        Obese   \n",
            "2                           4  Underweight   \n",
            "3                          10        Obese   \n",
            "4                           4   Overweight   \n",
            "\n",
            "  Blood Pressure (systolic/diastolic)  Heart Rate (bpm)  Daily Steps  \\\n",
            "0                              124/70                91         8539   \n",
            "1                              131/86                81        18754   \n",
            "2                              122/70                81         2857   \n",
            "3                              124/72                55         6886   \n",
            "4                              133/78                97        14945   \n",
            "\n",
            "  Sleep Disorder  \n",
            "0            NaN  \n",
            "1            NaN  \n",
            "2            NaN  \n",
            "3            NaN  \n",
            "4       Insomnia  \n",
            "\n",
            "Dataset Info:\n",
            "\n",
            "<class 'pandas.core.frame.DataFrame'>\n",
            "RangeIndex: 400 entries, 0 to 399\n",
            "Data columns (total 13 columns):\n",
            " #   Column                                 Non-Null Count  Dtype  \n",
            "---  ------                                 --------------  -----  \n",
            " 0   Person ID                              400 non-null    int64  \n",
            " 1   Gender                                 400 non-null    object \n",
            " 2   Age                                    400 non-null    int64  \n",
            " 3   Occupation                             400 non-null    object \n",
            " 4   Sleep Duration (hours)                 400 non-null    float64\n",
            " 5   Quality of Sleep (scale: 1-10)         400 non-null    float64\n",
            " 6   Physical Activity Level (minutes/day)  400 non-null    int64  \n",
            " 7   Stress Level (scale: 1-10)             400 non-null    int64  \n",
            " 8   BMI Category                           400 non-null    object \n",
            " 9   Blood Pressure (systolic/diastolic)    400 non-null    object \n",
            " 10  Heart Rate (bpm)                       400 non-null    int64  \n",
            " 11  Daily Steps                            400 non-null    int64  \n",
            " 12  Sleep Disorder                         110 non-null    object \n",
            "dtypes: float64(2), int64(6), object(5)\n",
            "memory usage: 40.8+ KB\n",
            "\n",
            "Missing Values:\n",
            " Person ID                                  0\n",
            "Gender                                     0\n",
            "Age                                        0\n",
            "Occupation                                 0\n",
            "Sleep Duration (hours)                     0\n",
            "Quality of Sleep (scale: 1-10)             0\n",
            "Physical Activity Level (minutes/day)      0\n",
            "Stress Level (scale: 1-10)                 0\n",
            "BMI Category                               0\n",
            "Blood Pressure (systolic/diastolic)        0\n",
            "Heart Rate (bpm)                           0\n",
            "Daily Steps                                0\n",
            "Sleep Disorder                           290\n",
            "dtype: int64\n",
            "\n",
            "Class Distribution:\n",
            " Sleep Disorder\n",
            "Insomnia       79\n",
            "Sleep Apnea    31\n",
            "Name: count, dtype: int64\n"
          ]
        }
      ]
    },
    {
      "cell_type": "markdown",
      "source": [
        "Data Preprocessing\n",
        "\n",
        "This section handles missing values, encodes categorical features, scales numerical features, and splits the data."
      ],
      "metadata": {
        "id": "SN-AuudNEbGH"
      }
    },
    {
      "cell_type": "code",
      "source": [
        "df.fillna(df.median(numeric_only=True), inplace=True)\n",
        "df.fillna(df.mode().iloc[0], inplace=True)\n",
        "label_encoders = {}\n",
        "for col in df.select_dtypes(include='object').columns:\n",
        "    le = LabelEncoder()\n",
        "    df[col] = le.fit_transform(df[col])\n",
        "    label_encoders[col] = le\n",
        "X = df.iloc[:, :-1]\n",
        "y = df.iloc[:, -1]\n",
        "scaler = StandardScaler()\n",
        "X = scaler.fit_transform(X)\n",
        "X_train, X_test, y_train, y_test = train_test_split(X, y, test_size=0.2, random_state=42)"
      ],
      "metadata": {
        "id": "I0Wx60LzAixd"
      },
      "execution_count": 9,
      "outputs": []
    },
    {
      "cell_type": "markdown",
      "source": [
        "Train Models\n",
        "\n",
        "This part defines multiple machine learning models and trains them on the dataset"
      ],
      "metadata": {
        "id": "1qpsth8OEg0p"
      }
    },
    {
      "cell_type": "code",
      "source": [
        "models={\n",
        "    \"Logistic Regression\": LogisticRegression(),\n",
        "    \"Naive Bayes\": GaussianNB(),\n",
        "    \"KNN\": KNeighborsClassifier(),\n",
        "    \"Decision Tree\": DecisionTreeClassifier(),\n",
        "    \"SVC\": SVC()\n",
        "}\n",
        "results={}\n",
        "for model_name, model in models.items():\n",
        "    model.fit(X_train, y_train)\n",
        "    y_pred = model.predict(X_test)\n",
        "    accuracy = accuracy_score(y_test, y_pred)\n",
        "    precision = precision_score(y_test, y_pred, average='weighted')\n",
        "    recall = recall_score(y_test, y_pred, average='weighted')\n",
        "    f1 = f1_score(y_test, y_pred, average='weighted')\n",
        "    results[model_name]={\n",
        "        \"Accuracy\": accuracy,\n",
        "        \"Precision\": precision,\n",
        "        \"Recall\": recall,\n",
        "        \"F1-Score\": f1\n",
        "    }"
      ],
      "metadata": {
        "colab": {
          "base_uri": "https://localhost:8080/"
        },
        "id": "fVSJo-P4BJhw",
        "outputId": "3e759ccd-af22-42af-fadb-283bcb95611c"
      },
      "execution_count": 10,
      "outputs": [
        {
          "output_type": "stream",
          "name": "stderr",
          "text": [
            "/usr/local/lib/python3.10/dist-packages/sklearn/metrics/_classification.py:1565: UndefinedMetricWarning: Precision is ill-defined and being set to 0.0 in labels with no predicted samples. Use `zero_division` parameter to control this behavior.\n",
            "  _warn_prf(average, modifier, f\"{metric.capitalize()} is\", len(result))\n",
            "/usr/local/lib/python3.10/dist-packages/sklearn/metrics/_classification.py:1565: UndefinedMetricWarning: Precision is ill-defined and being set to 0.0 in labels with no predicted samples. Use `zero_division` parameter to control this behavior.\n",
            "  _warn_prf(average, modifier, f\"{metric.capitalize()} is\", len(result))\n",
            "/usr/local/lib/python3.10/dist-packages/sklearn/metrics/_classification.py:1565: UndefinedMetricWarning: Precision is ill-defined and being set to 0.0 in labels with no predicted samples. Use `zero_division` parameter to control this behavior.\n",
            "  _warn_prf(average, modifier, f\"{metric.capitalize()} is\", len(result))\n",
            "/usr/local/lib/python3.10/dist-packages/sklearn/metrics/_classification.py:1565: UndefinedMetricWarning: Precision is ill-defined and being set to 0.0 in labels with no predicted samples. Use `zero_division` parameter to control this behavior.\n",
            "  _warn_prf(average, modifier, f\"{metric.capitalize()} is\", len(result))\n"
          ]
        }
      ]
    },
    {
      "cell_type": "markdown",
      "source": [
        "Results\n",
        "\n",
        "This part displays the performance metrics for each model in a readable format."
      ],
      "metadata": {
        "id": "C6_IWtpFEm1P"
      }
    },
    {
      "cell_type": "code",
      "source": [
        "print(\"\\nPerformance Metrics:\\n\")\n",
        "for model_name, metrics in results.items():\n",
        "    print(f\"{model_name}:\\n\")\n",
        "    for metric, value in metrics.items():\n",
        "        print(f\"  {metric}: {value:.4f}\")\n",
        "    print(\"\\n\")"
      ],
      "metadata": {
        "colab": {
          "base_uri": "https://localhost:8080/"
        },
        "id": "VqzYBUjDBR1E",
        "outputId": "a0469772-e4cb-458d-c058-feef7ef22a56"
      },
      "execution_count": 11,
      "outputs": [
        {
          "output_type": "stream",
          "name": "stdout",
          "text": [
            "\n",
            "Performance Metrics:\n",
            "\n",
            "Logistic Regression:\n",
            "\n",
            "  Accuracy: 0.9500\n",
            "  Precision: 0.9025\n",
            "  Recall: 0.9500\n",
            "  F1-Score: 0.9256\n",
            "\n",
            "\n",
            "Naive Bayes:\n",
            "\n",
            "  Accuracy: 0.9500\n",
            "  Precision: 0.9025\n",
            "  Recall: 0.9500\n",
            "  F1-Score: 0.9256\n",
            "\n",
            "\n",
            "KNN:\n",
            "\n",
            "  Accuracy: 0.9500\n",
            "  Precision: 0.9025\n",
            "  Recall: 0.9500\n",
            "  F1-Score: 0.9256\n",
            "\n",
            "\n",
            "Decision Tree:\n",
            "\n",
            "  Accuracy: 0.8375\n",
            "  Precision: 0.8965\n",
            "  Recall: 0.8375\n",
            "  F1-Score: 0.8660\n",
            "\n",
            "\n",
            "SVC:\n",
            "\n",
            "  Accuracy: 0.9500\n",
            "  Precision: 0.9025\n",
            "  Recall: 0.9500\n",
            "  F1-Score: 0.9256\n",
            "\n",
            "\n"
          ]
        }
      ]
    }
  ]
}